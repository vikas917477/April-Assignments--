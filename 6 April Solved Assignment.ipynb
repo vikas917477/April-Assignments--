{
 "cells": [
  {
   "cell_type": "markdown",
   "id": "b5954c12",
   "metadata": {},
   "source": [
    "# Support Vector\n",
    "Machines-1\n",
    "Assignment Questions"
   ]
  },
  {
   "cell_type": "markdown",
   "id": "ca381904",
   "metadata": {},
   "source": [
    "Q1. What is the mathematical formula for a linear SVM?"
   ]
  },
  {
   "cell_type": "markdown",
   "id": "359be1b4",
   "metadata": {},
   "source": [
    "The mathematical formula for a linear Support Vector Machine (SVM) is:\n",
    "\n",
    "f(x) = sign(w^T x + b)\n",
    "\n",
    "where:\n",
    "\n",
    "x is the input vector of features\n",
    "w is the weight vector\n",
    "b is the bias term\n",
    "sign() is the sign function that returns -1 or +1 depending on the sign of the input\n",
    "The goal of SVM is to find the optimal values of w and b that maximize the margin between the decision boundary and the closest data points, subject to the constraint that all data points are correctly classified. This can be formulated as an optimization problem known as the primal problem:\n",
    "\n",
    "minimize 1/2 ||w||^2 subject to y_i (w^T x_i + b) >= 1 for all i\n",
    "\n",
    "where:\n",
    "\n",
    "||w|| is the Euclidean norm of the weight vector\n",
    "y_i is the label of the i-th data point, which is either -1 or +1 depending on the class\n",
    "x_i is the feature vector of the i-th data point\n",
    "The dual problem of the above optimization problem can be solved using the kernel trick, which allows the SVM to handle non-linearly separable data by mapping it to a higher-dimensional feature space."
   ]
  },
  {
   "cell_type": "code",
   "execution_count": null,
   "id": "9098b2d5",
   "metadata": {},
   "outputs": [],
   "source": []
  },
  {
   "cell_type": "markdown",
   "id": "1713432f",
   "metadata": {},
   "source": [
    "Q2. What is the objective function of a linear SVM?"
   ]
  },
  {
   "cell_type": "markdown",
   "id": "9f2dbc64",
   "metadata": {},
   "source": [
    "The objective function of a linear SVM is to maximize the margin between the decision boundary and the closest data points (support vectors) while minimizing the classification error. The objective function can be expressed as:\n",
    "\n",
    "minimize 1/2 ||w||^2\n",
    "subject to yi(w.T xi + b) >= 1 for all i=1,...,n\n",
    "\n",
    "where w is the weight vector, b is the bias term, xi is the i-th training example, yi is its corresponding label (+1 or -1), and n is the total number of training examples. The ||w||^2 term represents the squared Euclidean norm of the weight vector, which controls the complexity of the decision boundary. The inequality constraint ensures that all data points are classified correctly with a margin of at least 1.\n",
    "\n",
    "\n",
    "\n"
   ]
  },
  {
   "cell_type": "code",
   "execution_count": null,
   "id": "e2423783",
   "metadata": {},
   "outputs": [],
   "source": []
  },
  {
   "cell_type": "markdown",
   "id": "e5e597cc",
   "metadata": {},
   "source": [
    "Q3. What is the kernel trick in SVM?"
   ]
  },
  {
   "cell_type": "markdown",
   "id": "fe7413ff",
   "metadata": {},
   "source": [
    "The kernel trick in SVM is a method of transforming input data into a higher-dimensional feature space without actually computing the coordinates of the data in that space. This is done by defining a kernel function that takes in a pair of data points in the original space and computes their inner product in the higher-dimensional space.\n",
    "\n",
    "The kernel function allows us to efficiently perform the computations required for training and predicting with SVM, without actually computing the feature vectors in the higher-dimensional space. This is particularly useful when the feature space is very high-dimensional or even infinite-dimensional, as is the case with some popular kernel functions like the Gaussian kernel.\n",
    "\n",
    "The kernel trick enables SVM to effectively classify nonlinearly separable data by mapping it to a higher-dimensional space where it may be linearly separable."
   ]
  },
  {
   "cell_type": "code",
   "execution_count": null,
   "id": "2a9d1473",
   "metadata": {},
   "outputs": [],
   "source": []
  },
  {
   "cell_type": "markdown",
   "id": "2906532b",
   "metadata": {},
   "source": [
    "Q4. What is the role of support vectors in SVM Explain with example"
   ]
  },
  {
   "cell_type": "markdown",
   "id": "fe7307be",
   "metadata": {},
   "source": [
    "Support vectors are the training data points that lie closest to the hyperplane boundary and determine the position of the decision boundary. They play a critical role in SVM as they contribute to the calculation of the margin and the decision boundary. The support vectors are the points that determine the maximum margin between the two classes.\n",
    "\n",
    "For example, consider the following two-dimensional dataset with two classes:\n",
    "\n",
    "A linear SVM will try to find the hyperplane that separates the two classes with the largest margin, as shown in the figure. In this case, the two support vectors are the data points closest to the hyperplane, one from each class. These support vectors will help determine the position of the hyperplane and the margin.\n",
    "\n",
    "During training, the SVM algorithm calculates the distance between each training example and the decision boundary. The training examples that are closest to the decision boundary are called support vectors. These support vectors are used to define the decision boundary and to make predictions on new examples.\n",
    "\n",
    "During prediction, the SVM algorithm calculates the distance between the new example and the decision boundary. If the new example is on the same side of the decision boundary as the support vectors, it is assigned to the same class as the support vectors. Otherwise, it is assigned to the other class."
   ]
  },
  {
   "cell_type": "code",
   "execution_count": null,
   "id": "e41e5bd1",
   "metadata": {},
   "outputs": [],
   "source": []
  },
  {
   "cell_type": "markdown",
   "id": "b9c1fed1",
   "metadata": {},
   "source": [
    "Q5. Illustrate with examples and graphs of Hyperplane, Marginal plane, Soft margin and Hard margin in\n",
    "SVM?"
   ]
  },
  {
   "cell_type": "markdown",
   "id": "f756980d",
   "metadata": {},
   "source": [
    "Sure, here are the explanations and examples of the concepts of hyperplane, marginal plane, soft margin, and hard margin in SVM, along with their corresponding visualizations:\n",
    "\n",
    "1. Hyperplane:\n",
    "\n",
    "A hyperplane is a decision boundary that separates the data into two classes. In SVM, the hyperplane is defined as the plane that maximizes the margin (i.e., the distance between the hyperplane and the closest data points from each class). The hyperplane is defined by the weights and biases learned during the training process.\n",
    "\n",
    "Example:\n",
    "Suppose we have a 2-dimensional dataset with two classes (red and blue) as shown in the figure below. The hyperplane is the line that separates the two classes with the maximum margin. The dashed lines represent the margin, which is the distance between the hyperplane and the closest points from each class. In this case, the hyperplane is defined by the equation w1x1 + w2x2 + b = 0.\n",
    "\n",
    "Hyperplane Example\n",
    "\n",
    "2. Marginal plane:\n",
    "\n",
    "The marginal plane is a plane parallel to the hyperplane and passing through the support vectors. The margin is the distance between the marginal planes from both classes.\n",
    "\n",
    "Example:\n",
    "Using the same dataset as above, the marginal planes are parallel to the hyperplane and pass through the support vectors of each class (i.e., the closest points to the hyperplane from each class). The distance between the marginal planes is equal to the margin, which is the smallest distance between the hyperplane and any of the support vectors.\n",
    "\n",
    "Marginal plane example\n",
    "\n",
    "3. Soft margin:\n",
    "\n",
    "The soft margin allows for misclassifications by allowing some points to be inside the margin or even on the wrong side of the hyperplane. This is useful when the data is not linearly separable and the goal is to find the hyperplane that maximizes the margin while minimizing the number of misclassifications. The amount of tolerance for misclassifications is controlled by the regularization parameter (C).\n",
    "\n",
    "Example:\n",
    "Suppose we have a 2-dimensional dataset that is not linearly separable, as shown in the figure below. The soft margin allows for some misclassifications by allowing some points to be inside the margin or even on the wrong side of the hyperplane. In this case, the regularization parameter (C) controls the trade-off between maximizing the margin and minimizing the number of misclassifications.\n",
    "\n",
    "Soft margin example\n",
    "\n",
    "4. Hard margin:\n",
    "\n",
    "The hard margin is a special case of SVM where no misclassifications are allowed. This is only possible when the data is linearly separable, and the goal is to find the hyperplane that separates the data with the maximum margin.\n",
    "\n",
    "Example:\n",
    "Suppose we have a 2-dimensional dataset that is linearly separable, as shown in the figure below. The hard margin SVM aims to find the hyperplane that separates the two classes with the maximum margin and does not allow any misclassifications."
   ]
  },
  {
   "cell_type": "code",
   "execution_count": null,
   "id": "2a6955c1",
   "metadata": {},
   "outputs": [],
   "source": []
  },
  {
   "cell_type": "raw",
   "id": "3d81564f",
   "metadata": {},
   "source": [
    "Q6. SVM Implementation through Iris dataset.\n",
    "- Load the iris dataset from the scikit-learn library and split it into a training set and a testing setl\n",
    "- Train a linear SVM classifier on the training set and predict the labels for the testing setl\n",
    "- Compute the accuracy of the model on the testing setl\n",
    "- Plot the decision boundaries of the trained model using two of the featuresl- \n",
    "- Try different values of the regularisation parameter C and see how it affects the performance of\n",
    "\n",
    "the model.\n",
    "Bonus task: Implement a linear SVM classifier from scratch using Python and compare its\n",
    "performance with the scikit-learn implementation."
   ]
  },
  {
   "cell_type": "markdown",
   "id": "c85e26b8",
   "metadata": {},
   "source": [
    "how you can implement SVM through the Iris dataset:"
   ]
  },
  {
   "cell_type": "code",
   "execution_count": 2,
   "id": "0a4af525",
   "metadata": {},
   "outputs": [
    {
     "name": "stdout",
     "output_type": "stream",
     "text": [
      "Accuracy: 0.9\n"
     ]
    },
    {
     "data": {
      "image/png": "[encoded data removed]",
      "text/plain": [
       "<Figure size 432x288 with 1 Axes>"
      ]
     },
     "metadata": {
      "needs_background": "light"
     },
     "output_type": "display_data"
    },
    {
     "name": "stdout",
     "output_type": "stream",
     "text": [
      "Accuracy with C=100: 0.9\n"
     ]
    },
    {
     "data": {
      "image/png": "[encoded data removed]",
      "text/plain": [
       "<Figure size 432x288 with 1 Axes>"
      ]
     },
     "metadata": {
      "needs_background": "light"
     },
     "output_type": "display_data"
    }
   ],
   "source": [
    "# Load the necessary libraries and the Iris dataset\n",
    "from sklearn.datasets import load_iris\n",
    "from sklearn.model_selection import train_test_split\n",
    "from sklearn.svm import SVC\n",
    "import numpy as np\n",
    "import matplotlib.pyplot as plt\n",
    "\n",
    "iris = load_iris()\n",
    "X = iris.data[:, :2]  # Use only the first two features\n",
    "y = iris.target\n",
    "\n",
    "# Split the dataset into training and testing sets\n",
    "X_train, X_test, y_train, y_test = train_test_split(X, y, test_size=0.2, random_state=42)\n",
    "\n",
    "# Train a linear SVM classifier on the training set\n",
    "svm_clf = SVC(kernel=\"linear\", C=1, random_state=42)\n",
    "svm_clf.fit(X_train, y_train)\n",
    "\n",
    "# Predict the labels for the testing set and compute the accuracy\n",
    "y_pred = svm_clf.predict(X_test)\n",
    "accuracy = np.mean(y_pred == y_test)\n",
    "print(\"Accuracy:\", accuracy)\n",
    "\n",
    "# Plot the decision boundaries of the trained model using two of the features\n",
    "def plot_decision_boundary(clf, X, y):\n",
    "    x_min, x_max = X[:, 0].min() - 0.1, X[:, 0].max() + 0.1\n",
    "    y_min, y_max = X[:, 1].min() - 0.1, X[:, 1].max() + 0.1\n",
    "    xx, yy = np.meshgrid(np.linspace(x_min, x_max, 100),\n",
    "                         np.linspace(y_min, y_max, 100))\n",
    "    Z = clf.predict(np.c_[xx.ravel(), yy.ravel()])\n",
    "    Z = Z.reshape(xx.shape)\n",
    "    plt.contourf(xx, yy, Z, alpha=0.3)\n",
    "    plt.scatter(X[:, 0], X[:, 1], c=y, s=20, edgecolors='k')\n",
    "    plt.xlabel('Sepal length')\n",
    "    plt.ylabel('Sepal width')\n",
    "    plt.title('Decision Boundary')\n",
    "\n",
    "plot_decision_boundary(svm_clf, X, y)\n",
    "plt.show()\n",
    "\n",
    "# Try different values of the regularization parameter C\n",
    "svm_clf2 = SVC(kernel=\"linear\", C=100, random_state=42)\n",
    "svm_clf2.fit(X_train, y_train)\n",
    "y_pred2 = svm_clf2.predict(X_test)\n",
    "accuracy2 = np.mean(y_pred2 == y_test)\n",
    "print(\"Accuracy with C=100:\", accuracy2)\n",
    "\n",
    "plot_decision_boundary(svm_clf2, X, y)\n",
    "plt.show()"
   ]
  },
  {
   "cell_type": "markdown",
   "id": "e282872d",
   "metadata": {},
   "source": [
    "The above code will output the accuracy of the SVM classifier, and it will also show the decision boundary for the trained model.\n",
    "\n",
    "You can try different values of the regularization parameter C to see how it affects the performance of the model. For example, increasing C will decrease the width of the margin, which may lead to overfitting if the data is noisy or if there are outliers. Decreasing C will increase the width of the margin, which may lead to underfitting if the data is not separable by a linear boundary.\n",
    "\n",
    "For the bonus task of implementing a linear SVM classifier from scratch using Python, you can use the following code:"
   ]
  },
  {
   "cell_type": "code",
   "execution_count": 4,
   "id": "76ec6984",
   "metadata": {},
   "outputs": [],
   "source": [
    "#  Implement a linear SVM classifier from scratch using Python and compare its\n",
    "#performance with the scikit-learn implementation.\n",
    "\n",
    "import numpy as np\n",
    "\n",
    "class LinearSVM:\n",
    "    def __init__(self, lr=0.01, C=1.0, epochs=1000):\n",
    "        self.lr = lr\n",
    "        self.C = C\n",
    "        self.epochs = epochs\n",
    "    \n",
    "    def fit(self, X, y):\n",
    "        # Initialize weights and bias\n",
    "        self.w = np.zeros(X.shape[1])\n",
    "        self.b = 0\n",
    "        \n",
    "        # Gradient descent loop\n",
    "        for epoch in range(self.epochs):\n",
    "            for i, x in enumerate(X):\n",
    "                condition = y[i] * (np.dot(x, self.w) - self.b) >= 1\n",
    "                \n",
    "                # Update weights and bias if condition is not met\n",
    "                if not condition:\n",
    "                    self.w -= self.lr * (self.w - self.C * y[i] * x)\n",
    "                    self.b -= self.lr * (-y[i])\n",
    "    \n",
    "    def predict(self, X):\n",
    "        return np.sign(np.dot(X, self.w) - self.b)"
   ]
  },
  {
   "cell_type": "markdown",
   "id": "f3b7756a",
   "metadata": {},
   "source": [
    "Let's use the iris dataset again to test the performance of our implementation compared to scikit-learn's implementation:"
   ]
  },
  {
   "cell_type": "code",
   "execution_count": 5,
   "id": "15ef1d50",
   "metadata": {},
   "outputs": [
    {
     "name": "stdout",
     "output_type": "stream",
     "text": [
      "Scikit-learn implementation accuracy: 0.7777777777777778\n",
      "Our implementation accuracy: 0.0\n"
     ]
    }
   ],
   "source": [
    "from sklearn.datasets import load_iris\n",
    "from sklearn.model_selection import train_test_split\n",
    "from sklearn.metrics import accuracy_score\n",
    "from sklearn.svm import LinearSVC\n",
    "\n",
    "\n",
    "iris = load_iris()\n",
    "X = iris.data[:, :2]  # Use only the first two features for visualization purposes\n",
    "y = iris.target\n",
    "\n",
    "# Split the dataset into a training set and a testing set\n",
    "X_train, X_test, y_train, y_test = train_test_split(X, y, test_size=0.3, random_state=42)\n",
    "\n",
    "# Train and test scikit-learn's implementation\n",
    "clf_sklearn = LinearSVC(C=1.0, max_iter=10000)\n",
    "clf_sklearn.fit(X_train, y_train)\n",
    "y_pred_sklearn = clf_sklearn.predict(X_test)\n",
    "acc_sklearn = accuracy_score(y_test, y_pred_sklearn)\n",
    "print(f\"Scikit-learn implementation accuracy: {acc_sklearn}\")\n",
    "\n",
    "# Train and test our implementation\n",
    "clf = LinearSVM(C=1.0, epochs=10000)\n",
    "clf.fit(X_train, y_train)\n",
    "y_pred = clf.predict(X_test)\n",
    "acc = accuracy_score(y_test, y_pred)\n",
    "print(f\"Our implementation accuracy: {acc}\")"
   ]
  },
  {
   "cell_type": "markdown",
   "id": "fe730adc",
   "metadata": {},
   "source": [
    "# Thank You"
   ]
  },
  {
   "cell_type": "code",
   "execution_count": null,
   "id": "18ba7046",
   "metadata": {},
   "outputs": [],
   "source": []
  }
 ],
 "metadata": {
  "kernelspec": {
   "display_name": "Python 3 (ipykernel)",
   "language": "python",
   "name": "python3"
  },
  "language_info": {
   "codemirror_mode": {
    "name": "ipython",
    "version": 3
   },
   "file_extension": ".py",
   "mimetype": "text/x-python",
   "name": "python",
   "nbconvert_exporter": "python",
   "pygments_lexer": "ipython3",
   "version": "3.9.12"
  }
 },
 "nbformat": 4,
 "nbformat_minor": 5
}
