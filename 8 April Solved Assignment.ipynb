{
 "cells": [
  {
   "cell_type": "markdown",
   "id": "1c4ba63a",
   "metadata": {},
   "source": [
    "# Support Vector\n",
    "Machines-3\n",
    "Assignment Questions"
   ]
  },
  {
   "cell_type": "raw",
   "id": "048e54d2",
   "metadata": {},
   "source": [
    "Q1. In order to predict house price based on several characteristics, such as location, square footage,\n",
    "number of bedrooms, etc., you are developing an SVM regression model. Which regression metric in this\n",
    "situation would be the best to employ?"
   ]
  },
  {
   "cell_type": "markdown",
   "id": "be4cf07c",
   "metadata": {},
   "source": [
    "For predicting house prices based on several characteristics, the best regression metric to employ would be mean squared error (MSE) or root mean squared error (RMSE). This is because these metrics measure the average squared difference between the predicted and actual house prices, which is a good indicator of how well the SVM regression model is performing.\n",
    "\n",
    "To illustrate, let's use the Bengaluru House Data set and build an SVM regression model to predict the price of a house based on its location, square footage, number of bedrooms, and other characteristics. We can start by loading the data and splitting it into training and testing sets:"
   ]
  },
  {
   "cell_type": "code",
   "execution_count": 14,
   "id": "ffaac267",
   "metadata": {},
   "outputs": [
    {
     "name": "stdout",
     "output_type": "stream",
     "text": [
      "['area_type', 'availability', 'location', 'size', 'society', 'total_sqft']\n"
     ]
    }
   ],
   "source": [
    "import pandas as pd\n",
    "\n",
    "# Load the dataset\n",
    "data = pd.read_csv('Bengaluru_House_Data.csv')\n",
    "\n",
    "# Identify non-numeric columns\n",
    "non_numeric_cols = []\n",
    "for col in data.columns:\n",
    "    if data[col].dtype not in ['int64', 'float64']:\n",
    "        non_numeric_cols.append(col)\n",
    "\n",
    "print(non_numeric_cols)"
   ]
  },
  {
   "cell_type": "markdown",
   "id": "f23de93d",
   "metadata": {},
   "source": [
    "Then, we can create an instance of the SVM regression model and fit it to the training data:"
   ]
  },
  {
   "cell_type": "code",
   "execution_count": null,
   "id": "36f99ded",
   "metadata": {},
   "outputs": [],
   "source": []
  }
 ],
 "metadata": {
  "kernelspec": {
   "display_name": "Python 3 (ipykernel)",
   "language": "python",
   "name": "python3"
  },
  "language_info": {
   "codemirror_mode": {
    "name": "ipython",
    "version": 3
   },
   "file_extension": ".py",
   "mimetype": "text/x-python",
   "name": "python",
   "nbconvert_exporter": "python",
   "pygments_lexer": "ipython3",
   "version": "3.9.12"
  }
 },
 "nbformat": 4,
 "nbformat_minor": 5
}
